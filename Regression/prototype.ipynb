{
 "cells": [
  {
   "cell_type": "markdown",
   "metadata": {},
   "source": [
    "# Importing Necessary Libraries"
   ]
  },
  {
   "cell_type": "code",
   "execution_count": 1,
   "metadata": {},
   "outputs": [],
   "source": [
    "import pandas as pd\n",
    "import numpy as np\n",
    "from sklearn.preprocessing import PolynomialFeatures\n",
    "from sklearn.linear_model import Ridge, Lasso, LinearRegression\n",
    "from sklearn.model_selection import train_test_split\n",
    "from sklearn.model_selection import KFold, cross_val_predict\n",
    "from sklearn.metrics import r2_score,mean_squared_error\n",
    "from sklearn.model_selection import GridSearchCV\n",
    "from sklearn.pipeline import Pipeline\n",
    "import matplotlib.pyplot as plt"
   ]
  },
  {
   "cell_type": "markdown",
   "metadata": {},
   "source": [
    "# Defining Regression Class"
   ]
  },
  {
   "cell_type": "code",
   "execution_count": 2,
   "metadata": {},
   "outputs": [],
   "source": [
    "class regression:\n",
    "    \n",
    "    def load_data(self,target_variable):\n",
    "        self.df = pd.read_csv(\"D:\\Study\\Masters in Automation and IT\\OOP for Data Science\\Dataset\\RegressionPredictionData.csv\")\n",
    "        self.y = self.df[target_variable]\n",
    "        self.x = self.df.drop(target_variable,axis=1)\n",
    "    \n",
    "    def split(self,t_size,r_state):\n",
    "        x_tr,x_ts,y_tr,y_ts = train_test_split(self.x,self.y,test_size = t_size,random_state = r_state)\n",
    "        self.x_train = x_tr\n",
    "        self.x_test = x_ts\n",
    "        self.y_train = y_tr\n",
    "        self.y_test = y_ts\n",
    "        \n",
    "    def linear_regression(self):\n",
    "        self.model = LinearRegression()\n",
    "        self.model.fit(self.x_train,self.y_train)\n",
    "        self.y_predict_linear = self.model.predict(self.x_test)\n",
    "        \n",
    "    def polynomial_regression(self,k_fold,degree):\n",
    "\n",
    "        estimator = Pipeline([(\"polynomial_features\", PolynomialFeatures()),(\"linear_regression\", LinearRegression())])\n",
    "                    \n",
    "        params = {'polynomial_features__degree': degree}\n",
    "\n",
    "        grid = GridSearchCV(estimator, params, cv=k_fold)\n",
    "\n",
    "        grid.fit(self.x_train,self.y_train)\n",
    "        self.best_score_poly = grid.best_score_\n",
    "        self.best_params_poly = grid.best_params_ \n",
    "                    \n",
    "        self.y_predict_poly = grid.predict(self.x_test)\n",
    "\n",
    "    def ridge_regression(self, alpha_values, k_fold):\n",
    "        ridge_model = Ridge()\n",
    "    \n",
    "        param = {'alpha': alpha_values}\n",
    "        \n",
    "        grid = GridSearchCV(estimator=ridge_model, param_grid=param, cv=k_fold)\n",
    "        \n",
    "        grid.fit(self.x_train, self.y_train)\n",
    "        \n",
    "        self.best_alpha = grid.best_params_['alpha']\n",
    "        self.best_score_ridge = grid.best_score_\n",
    "        self.best_ridge_model = grid.best_estimator_\n",
    "        \n",
    "        self.y_predict_ridge = self.best_ridge_model.predict(self.x_test)\n",
    "   \n",
    "    def lasso_regression(self, alpha_values, k_fold):\n",
    "        lasso_model = Lasso()\n",
    "    \n",
    "        param = {'alpha': alpha_values}\n",
    "        \n",
    "        grid = GridSearchCV(estimator=lasso_model, param_grid=param, cv=k_fold)\n",
    "        \n",
    "        grid.fit(self.x_train, self.y_train)\n",
    "        \n",
    "        self.best_alpha = grid.best_params_['alpha']\n",
    "        self.best_score_lasso = grid.best_score_\n",
    "        self.best_lasso_model = grid.best_estimator_\n",
    "        \n",
    "        self.y_predict_lasso = self.best_lasso_model.predict(self.x_test)\n",
    "   \n",
    "    def error_metric(self,pred_val,actual_val):\n",
    "        r2score = r2_score(pred_val,actual_val)\n",
    "        print(r2score)"
   ]
  },
  {
   "cell_type": "code",
   "execution_count": 3,
   "metadata": {},
   "outputs": [
    {
     "name": "stdout",
     "output_type": "stream",
     "text": [
      "            Datum  BHKW1_Biogas  BHKW2_Biogas  Methangehalt CH4   TS-Wert  \\\n",
      "0     734124.9993   1262.000000   4790.000000         53.530090  7.442129   \n",
      "1     734125.0827   1222.583790   4802.499855         53.530090  7.959729   \n",
      "2     734125.1660   1183.167579   4814.999711         53.530090  7.453511   \n",
      "3     734125.2493   1143.751369   4827.499566         53.530090  8.026361   \n",
      "4     734125.3327   1104.335158   4839.999421         53.530090  7.560807   \n",
      "...           ...           ...           ...               ...       ...   \n",
      "1616  734259.6660   2510.665494   5129.999190         52.710275  8.032442   \n",
      "1617  734259.7493   2535.999120   5147.499392         52.408863  8.414378   \n",
      "1618  734259.8327   2561.332747   5164.999595         52.107451  8.796314   \n",
      "1619  734259.9160   2586.666373   5182.499797         51.806039  9.178250   \n",
      "1620  734259.9993   2612.000000   5200.000000         51.504627  9.560185   \n",
      "\n",
      "       pH-Wert  \n",
      "0     7.684027  \n",
      "1     7.706535  \n",
      "2     7.691780  \n",
      "3     7.679975  \n",
      "4     7.702491  \n",
      "...        ...  \n",
      "1616  7.612783  \n",
      "1617  7.609568  \n",
      "1618  7.606353  \n",
      "1619  7.603138  \n",
      "1620  7.599923  \n",
      "\n",
      "[1621 rows x 6 columns]\n"
     ]
    }
   ],
   "source": [
    "data = regression()\n",
    "data.load_data('pH-Wert')\n",
    "print(data.df)\n",
    "data.split(0.3,101)"
   ]
  },
  {
   "cell_type": "markdown",
   "metadata": {},
   "source": [
    "# Linear Regression input and output"
   ]
  },
  {
   "cell_type": "code",
   "execution_count": 4,
   "metadata": {},
   "outputs": [
    {
     "name": "stdout",
     "output_type": "stream",
     "text": [
      "Linear Regression:  -0.7114070225510272\n"
     ]
    }
   ],
   "source": [
    "data.linear_regression()\n",
    "print(\"Linear Regression: \",end=\" \")\n",
    "data.error_metric(data.y_predict_linear,data.y_test)"
   ]
  },
  {
   "cell_type": "markdown",
   "metadata": {},
   "source": [
    "# Polynomial Regression input and output"
   ]
  },
  {
   "cell_type": "code",
   "execution_count": 5,
   "metadata": {},
   "outputs": [
    {
     "name": "stdout",
     "output_type": "stream",
     "text": [
      "Polynomial Regression:  {'polynomial_features__degree': 3}\n",
      "0.2049853917873754\n"
     ]
    }
   ],
   "source": [
    "data.polynomial_regression(k_fold= 5,degree=[2,3,4,5 ])               # k_fold=5,degree=[2,3,4,5]     \n",
    "print(\"Polynomial Regression: \",end=\" \")\n",
    "print(data.best_params_poly)\n",
    "data.error_metric(data.y_predict_poly,data.y_test)"
   ]
  },
  {
   "cell_type": "markdown",
   "metadata": {},
   "source": [
    "# Lasso Regression input and output"
   ]
  },
  {
   "cell_type": "code",
   "execution_count": 6,
   "metadata": {},
   "outputs": [
    {
     "name": "stdout",
     "output_type": "stream",
     "text": [
      "Lasso Regression:  0.01\n",
      "-0.8569582218271403\n"
     ]
    }
   ],
   "source": [
    "data.lasso_regression(alpha_values = [ 0.01,0.1,1],k_fold= 5)     # alpha_values = [0.01,0.1,1],k_fold=5\n",
    "print(\"Lasso Regression: \",end=\" \")\n",
    "print(data.best_alpha)\n",
    "data.error_metric(data.y_predict_lasso,data.y_test)"
   ]
  },
  {
   "cell_type": "markdown",
   "metadata": {},
   "source": [
    "# Ridge Regression input and output"
   ]
  },
  {
   "cell_type": "code",
   "execution_count": 17,
   "metadata": {},
   "outputs": [
    {
     "name": "stdout",
     "output_type": "stream",
     "text": [
      "Ridge Regression:  1\n",
      "-0.7116092583182245\n"
     ]
    }
   ],
   "source": [
    "data.ridge_regression(alpha_values = [ 0.01,0.1,1],k_fold= 5)     # alpha_values = [0.01,0.1,1],k_fold=5\n",
    "print(\"Ridge Regression: \",end=\" \")\n",
    "print(data.best_alpha)\n",
    "data.error_metric(data.y_predict_ridge,data.y_test)"
   ]
  }
 ],
 "metadata": {
  "kernelspec": {
   "display_name": "oopDevEnv",
   "language": "python",
   "name": "python3"
  },
  "language_info": {
   "codemirror_mode": {
    "name": "ipython",
    "version": 3
   },
   "file_extension": ".py",
   "mimetype": "text/x-python",
   "name": "python",
   "nbconvert_exporter": "python",
   "pygments_lexer": "ipython3",
   "version": "3.10.15"
  }
 },
 "nbformat": 4,
 "nbformat_minor": 2
}
