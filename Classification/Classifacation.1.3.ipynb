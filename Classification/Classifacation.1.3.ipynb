{
 "cells": [
  {
   "cell_type": "markdown",
   "metadata": {},
   "source": [
    "# Import necessary libraries"
   ]
  },
  {
   "cell_type": "code",
   "execution_count": 23,
   "metadata": {
    "ExecuteTime": {
     "end_time": "2024-11-19T13:35:42.060815Z",
     "start_time": "2024-11-19T13:35:42.051793Z"
    }
   },
   "outputs": [],
   "source": [
    "from sklearn.ensemble import RandomForestClassifier\n",
    "from sklearn.svm import SVC\n",
    "from sklearn.neighbors import KNeighborsClassifier\n",
    "from sklearn.model_selection import GridSearchCV, train_test_split\n",
    "from sklearn.metrics import (\n",
    "    accuracy_score,\n",
    "    classification_report,\n",
    "    confusion_matrix,\n",
    "    ConfusionMatrixDisplay,\n",
    "    mean_squared_error,\n",
    ")\n",
    "from sklearn.preprocessing import LabelEncoder\n",
    "import pandas as pd\n",
    "import matplotlib.pyplot as plt"
   ]
  },
  {
   "cell_type": "markdown",
   "metadata": {},
   "source": [
    "# Dict of inputs and outputs with default values"
   ]
  },
  {
   "cell_type": "code",
   "execution_count": 24,
   "metadata": {},
   "outputs": [],
   "source": [
    "inputs = {\n",
    "    'DataFrame': None,  \n",
    "    'Classifier_model':'KNN',\n",
    "    'test_size': 0.2,  \n",
    "    'n_estimators': 100,  # Number of trees in RandomForest\n",
    "    'max_depth': 10,  # Maximum depth of RandomForest trees\n",
    "    'C': 1.0,  # Regularization parameter for SVC\n",
    "    'kernel': 'rbf',  # Kernel type for SVC\n",
    "    'gamma': 'scale',  # Kernel coefficient for SVC\n",
    "    'n_neighbors': 5,  # Number of neighbors for KNN\n",
    "    'weights': 'uniform',  # Weight function for KNN\n",
    "    'metric': 'euclidean',  # Distance metric for KNN\n",
    "    'p': 2,  # Power parameter for Minkowski distance (KNN)\n",
    "    'use_defaults':1  # Flag to enable or disable grid search\n",
    "}\n",
    "\n",
    "outputs = {\n",
    "    'accuracy': None, \n",
    "    'report': None,  \n",
    "    'cm': None,  \n",
    "    'mse': None \n",
    "}\n"
   ]
  },
  {
   "cell_type": "markdown",
   "metadata": {},
   "source": [
    "# BaseClass \n",
    "EvaluationClassifier"
   ]
  },
  {
   "cell_type": "code",
   "execution_count": 25,
   "metadata": {},
   "outputs": [],
   "source": [
    "class CarEvaluationClassifier:\n",
    "    def __init__(self, DataFrame, test_size=inputs['test_size']):\n",
    "        self.encoder = LabelEncoder()\n",
    "\n",
    "        # Encode all columns\n",
    "        for column in DataFrame.columns:\n",
    "            DataFrame[column] = DataFrame[column].astype(str)\n",
    "            DataFrame[column] = self.encoder.fit_transform(DataFrame[column])\n",
    "\n",
    "        self.data = DataFrame.iloc[:, :-1]\n",
    "        self.target = DataFrame.iloc[:, -1]\n",
    "\n",
    "        self.prepare_data(test_size)\n",
    "\n",
    "    def prepare_data(self, test_size=inputs['test_size']):\n",
    "        self.data_train, self.data_test, self.target_train, self.target_test = train_test_split(\n",
    "            self.data, self.target, test_size=test_size, random_state=42\n",
    "        )\n",
    "\n",
    "    def set_model(self, model):\n",
    "        self.current_model = model\n",
    "        print(f\"Model set to: {type(model).__name__}\")\n",
    "\n",
    "    def evaluate(self, target_test=None, target_pred=None):\n",
    "        if target_test is None:\n",
    "            target_test = self.target_test\n",
    "        if target_pred is None:\n",
    "            target_pred = self.target_pred\n",
    "\n",
    "        accuracy = accuracy_score(target_test, target_pred)\n",
    "        report = classification_report(target_test, target_pred)\n",
    "        cm = confusion_matrix(target_test, target_pred)\n",
    "        mse = mean_squared_error(target_test, target_pred)\n",
    "\n",
    "        # Save outputs to the dictionary\n",
    "        outputs['accuracy'] = accuracy\n",
    "        outputs['report'] = report\n",
    "        outputs['cm'] = cm\n",
    "        outputs['mse'] = mse\n",
    "\n",
    "        print(\"Model Accuracy:\", accuracy)\n",
    "        print(\"\\nClassification Report:\\n\", report)\n",
    "        print(\"\\nConfusion Matrix:\")\n",
    "        print(cm)\n",
    "        print(f\"Mean Squared Error: {mse:.4f}\")\n",
    "\n",
    "        return accuracy, report, cm, mse\n",
    "\n",
    "    def display_confusion_matrix(self, cm=None):\n",
    "        if cm is None:\n",
    "            cm = confusion_matrix(self.target_test, self.target_pred)\n",
    "\n",
    "        disp = ConfusionMatrixDisplay(confusion_matrix=cm)\n",
    "        disp.plot(cmap=\"Blues\")\n",
    "        plt.title(\"Confusion Matrix\")\n",
    "        plt.show()"
   ]
  },
  {
   "cell_type": "markdown",
   "metadata": {},
   "source": [
    "## Child Class RandomForestModel\n"
   ]
  },
  {
   "cell_type": "code",
   "execution_count": 26,
   "metadata": {},
   "outputs": [],
   "source": [
    "class RandomForestModel(CarEvaluationClassifier):\n",
    "    def __init__(self, DataFrame, test_size=inputs['test_size']):\n",
    "        super().__init__(DataFrame, test_size)\n",
    "        self.use_grid_search = bool(inputs['use_defaults'])\n",
    "        self.param_grid = {\n",
    "            'n_estimators': [50, 100, 150],\n",
    "            'max_depth': [5, 10, 20]\n",
    "        }\n",
    "        self.model = RandomForestClassifier(\n",
    "            n_estimators=inputs['n_estimators'],\n",
    "            max_depth=inputs['max_depth'],\n",
    "            random_state=42\n",
    "        )\n",
    "\n",
    "    def train(self):\n",
    "        if self.use_grid_search:\n",
    "            grid_search = GridSearchCV(RandomForestClassifier(random_state=42), self.param_grid, cv=3, scoring='accuracy')\n",
    "            grid_search.fit(self.data_train, self.target_train)\n",
    "            self.model = grid_search.best_estimator_\n",
    "            print(f\"Best parameters for RandomForest: {grid_search.best_params_}\")\n",
    "        else:\n",
    "            self.model.fit(self.data_train, self.target_train)\n",
    "            print(\"Training complete with RandomForest using input parameters.\")\n",
    "\n",
    "        self.target_pred = self.model.predict(self.data_test)"
   ]
  },
  {
   "cell_type": "markdown",
   "metadata": {},
   "source": [
    "## Child Class SVCModel"
   ]
  },
  {
   "cell_type": "code",
   "execution_count": 27,
   "metadata": {},
   "outputs": [],
   "source": [
    "class SVCModel(CarEvaluationClassifier):\n",
    "    def __init__(self, DataFrame, test_size=inputs['test_size']):\n",
    "        super().__init__(DataFrame, test_size)\n",
    "        self.use_grid_search = bool(inputs['use_defaults'])\n",
    "        self.param_grid = {\n",
    "            'C': [0.1, 1, 10],\n",
    "            'kernel': ['linear', 'rbf'],\n",
    "            'gamma': ['scale', 'auto']\n",
    "        }\n",
    "        self.model = SVC(\n",
    "            C=inputs['C'],\n",
    "            kernel=inputs['kernel'],\n",
    "            gamma=inputs['gamma']\n",
    "        )\n",
    "\n",
    "    def train(self):\n",
    "        if self.use_grid_search:\n",
    "            grid_search = GridSearchCV(SVC(), self.param_grid, cv=3, scoring='accuracy')\n",
    "            grid_search.fit(self.data_train, self.target_train)\n",
    "            self.model = grid_search.best_estimator_\n",
    "            print(f\"Best parameters for SVC: {grid_search.best_params_}\")\n",
    "        else:\n",
    "            self.model.fit(self.data_train, self.target_train)\n",
    "            print(\"Training complete with SVC using input parameters.\")\n",
    "\n",
    "        self.target_pred = self.model.predict(self.data_test)"
   ]
  },
  {
   "cell_type": "markdown",
   "metadata": {},
   "source": [
    "## Child Class KNNModel"
   ]
  },
  {
   "cell_type": "code",
   "execution_count": 28,
   "metadata": {},
   "outputs": [],
   "source": [
    "class KNNModel(CarEvaluationClassifier):\n",
    "    def __init__(self, DataFrame, test_size=inputs['test_size']):\n",
    "        super().__init__(DataFrame, test_size)\n",
    "        self.use_grid_search = bool(inputs['use_defaults'])\n",
    "        self.param_grid = {\n",
    "            'n_neighbors': [3, 5, 7],\n",
    "            'weights': ['uniform', 'distance'],\n",
    "            'p': [1, 2]\n",
    "        }\n",
    "        self.model = KNeighborsClassifier(\n",
    "            n_neighbors=inputs['n_neighbors'],\n",
    "            weights=inputs['weights'],\n",
    "            metric=inputs['metric'],\n",
    "            p=inputs['p']\n",
    "        )\n",
    "\n",
    "    def train(self):\n",
    "        if self.use_grid_search:\n",
    "            grid_search = GridSearchCV(KNeighborsClassifier(metric='minkowski'), self.param_grid, cv=3, scoring='accuracy')\n",
    "            grid_search.fit(self.data_train, self.target_train)\n",
    "            self.model = grid_search.best_estimator_\n",
    "            print(f\"Best parameters for KNN: {grid_search.best_params_}\")\n",
    "        else:\n",
    "            self.model.fit(self.data_train, self.target_train)\n",
    "            print(\"Training complete with KNN using input parameters.\")\n",
    "\n",
    "        self.target_pred = self.model.predict(self.data_test)\n"
   ]
  },
  {
   "cell_type": "markdown",
   "metadata": {},
   "source": [
    "Instance "
   ]
  },
  {
   "cell_type": "code",
   "execution_count": 29,
   "metadata": {},
   "outputs": [
    {
     "name": "stdout",
     "output_type": "stream",
     "text": [
      "Available models: RandomForest, SVC, KNN\n",
      "Best parameters for KNN: {'n_neighbors': 7, 'p': 1, 'weights': 'distance'}\n",
      "Model Accuracy: 0.930635838150289\n",
      "\n",
      "Classification Report:\n",
      "               precision    recall  f1-score   support\n",
      "\n",
      "           0       0.93      0.78      0.85        83\n",
      "           1       1.00      0.73      0.84        11\n",
      "           2       0.93      1.00      0.96       235\n",
      "           3       0.94      0.88      0.91        17\n",
      "\n",
      "    accuracy                           0.93       346\n",
      "   macro avg       0.95      0.85      0.89       346\n",
      "weighted avg       0.93      0.93      0.93       346\n",
      "\n",
      "\n",
      "Confusion Matrix:\n",
      "[[ 65   0  18   0]\n",
      " [  2   8   0   1]\n",
      " [  1   0 234   0]\n",
      " [  2   0   0  15]]\n",
      "Mean Squared Error: 0.2890\n"
     ]
    },
    {
     "data": {
      "image/png": "[encoded data removed]",
      "text/plain": [
       "<Figure size 640x480 with 2 Axes>"
      ]
     },
     "metadata": {},
     "output_type": "display_data"
    }
   ],
   "source": [
    "# Load the data\n",
    "filepath = \"car.data\"\n",
    "data = pd.read_csv(filepath, header=None)\n",
    "\n",
    "# User selects a model\n",
    "print(\"Available models: RandomForest, SVC, KNN\")\n",
    "selected_model = inputs['Classifier_model']\n",
    "\n",
    "# Create and use the selected model\n",
    "try:\n",
    "    if selected_model == \"RandomForest\":\n",
    "        model = RandomForestModel(data)\n",
    "    elif selected_model == \"SVC\":\n",
    "        model = SVCModel(data)\n",
    "    elif selected_model == \"KNN\":\n",
    "        model = KNNModel(data)\n",
    "    else:\n",
    "        raise ValueError(\"Invalid model name entered.\")\n",
    "\n",
    "    model.prepare_data()\n",
    "    model.train()\n",
    "    accuracy, report, cm, mse = model.evaluate()\n",
    "    model.display_confusion_matrix(cm)\n",
    "\n",
    "except ValueError as e:\n",
    "    print(e)\n"
   ]
  }
 ],
 "metadata": {
  "kernelspec": {
   "display_name": "Python 3",
   "language": "python",
   "name": "python3"
  },
  "language_info": {
   "codemirror_mode": {
    "name": "ipython",
    "version": 3
   },
   "file_extension": ".py",
   "mimetype": "text/x-python",
   "name": "python",
   "nbconvert_exporter": "python",
   "pygments_lexer": "ipython3",
   "version": "3.12.7"
  }
 },
 "nbformat": 4,
 "nbformat_minor": 2
}
