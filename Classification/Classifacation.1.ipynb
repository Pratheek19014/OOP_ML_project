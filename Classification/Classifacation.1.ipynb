{
 "cells": [
  {
   "metadata": {},
   "cell_type": "markdown",
   "source": "# Import necessary libraries"
  },
  {
   "metadata": {
    "ExecuteTime": {
     "end_time": "2024-11-19T13:35:42.060815Z",
     "start_time": "2024-11-19T13:35:42.051793Z"
    }
   },
   "cell_type": "code",
   "source": [
    "import pandas as pd  # For data manipulation\n",
    "from sklearn.model_selection import train_test_split  # To split the dataset into training and testing sets\n",
    "from sklearn.ensemble import RandomForestClassifier  # Random Forest model\n",
    "from sklearn.linear_model import LogisticRegression  # Logistic Regression model\n",
    "from sklearn.svm import SVC  # Support Vector Classifier (SVC) model\n",
    "from sklearn.metrics import accuracy_score, classification_report  # For evaluation metrics\n",
    "from sklearn.preprocessing import LabelEncoder  # To encode categorical variables into numerical values"
   ],
   "outputs": [],
   "execution_count": 50
  },
  {
   "metadata": {},
   "cell_type": "markdown",
   "source": "# Define a custom class for managing classification models"
  },
  {
   "metadata": {
    "ExecuteTime": {
     "end_time": "2024-11-19T13:35:42.146846Z",
     "start_time": "2024-11-19T13:35:42.133735Z"
    }
   },
   "cell_type": "code",
   "source": [
    "class CarEvaluationClassifier:\n",
    "    def __init__(self, DataFrame):\n",
    "        self.models = {  # Dictionary to store available models\n",
    "            \"RandomForest\": RandomForestClassifier(),\n",
    "            \"LogisticRegression\": LogisticRegression(max_iter=1000),\n",
    "            \"SVC\": SVC()\n",
    "        }\n",
    "        self.current_model = None  # Placeholder for the selected model\n",
    "        self.encoder = LabelEncoder()  # Initialize LabelEncoder\n",
    "\n",
    "        # Encode all columns to numeric values\n",
    "        for column in DataFrame.columns:\n",
    "            DataFrame[column] = DataFrame[column].astype(str)  # Convert column values to strings\n",
    "            DataFrame[column] = self.encoder.fit_transform(DataFrame[column])\n",
    "\n",
    "        # Split features (X) and target labels (y)\n",
    "        self.X = DataFrame.iloc[:, :-1]  # All columns except the last one as features\n",
    "        self.y = DataFrame.iloc[:, -1]  # The last column as the target variable"
   ],
   "outputs": [],
   "execution_count": 51
  },
  {
   "metadata": {},
   "cell_type": "raw",
   "source": [
    "A custom class to handle machine learning classification for the car evaluation dataset. It allows training, testing, and hyperparameter updating for different models.\n",
    "Initialize the classifier with a DataFrame and prepare the data.\n",
    "        - Encodes all categorical data using LabelEncoder.\n",
    "        - Splits features (X) and target labels (y) from the input DataFrame."
   ]
  },
  {
   "metadata": {},
   "cell_type": "markdown",
   "source": "# Split the dataset into training and testing sets."
  },
  {
   "metadata": {
    "ExecuteTime": {
     "end_time": "2024-11-19T13:35:42.166753Z",
     "start_time": "2024-11-19T13:35:42.158775Z"
    }
   },
   "cell_type": "code",
   "source": [
    "    def prepare_data(self, test_size=0.2):\n",
    "            # Splitting the dataset into training and testing sets\n",
    "            self.X_train, self.X_test, self.y_train, self.y_test = train_test_split(\n",
    "                self.X, self.y, test_size=test_size, random_state=42\n",
    "            )"
   ],
   "outputs": [],
   "execution_count": 52
  },
  {
   "metadata": {},
   "cell_type": "raw",
   "source": [
    "\n",
    "Parameters:\n",
    "- test_size (float): Proportion of the dataset to include in the test split (default is 20%)."
   ]
  },
  {
   "metadata": {},
   "cell_type": "markdown",
   "source": "# Set the machine learning model to be used."
  },
  {
   "metadata": {
    "ExecuteTime": {
     "end_time": "2024-11-19T13:35:42.211199Z",
     "start_time": "2024-11-19T13:35:42.202223Z"
    }
   },
   "cell_type": "code",
   "source": [
    " def set_model(self, model_name):\n",
    "        if model_name in self.models:\n",
    "            self.current_model = self.models[model_name]  # Set the current model\n",
    "            print(f\"Model set to: {model_name}\")\n",
    "        else:\n",
    "            raise ValueError(f\"Invalid model name: {model_name}. Choose from {list(self.models.keys())}.\")\n"
   ],
   "outputs": [],
   "execution_count": 53
  },
  {
   "metadata": {},
   "cell_type": "markdown",
   "source": [
    "Parameters:\n",
    "- model_name (str): The name of the model (e.g., \"RandomForest\", \"LogisticRegression\", \"SVC\")."
   ]
  },
  {
   "metadata": {},
   "cell_type": "markdown",
   "source": "# Update the hyperparameters of the selected model."
  },
  {
   "metadata": {
    "ExecuteTime": {
     "end_time": "2024-11-19T13:35:42.249096Z",
     "start_time": "2024-11-19T13:35:42.239124Z"
    }
   },
   "cell_type": "code",
   "source": [
    "def update_hyperparameters(self, hyperparameters):\n",
    "        if self.current_model is None:\n",
    "            raise ValueError(\"No model selected. Use the 'set_model' method to select a model first.\")\n",
    "\n",
    "        # Reinitialize the model with the updated hyperparameters\n",
    "        model_class = type(self.current_model)\n",
    "        try:\n",
    "            self.current_model = model_class(**hyperparameters)\n",
    "            print(f\"Hyperparameters updated for {model_class.__name__}: {hyperparameters}\")\n",
    "        except TypeError as e:\n",
    "            print(f\"Error updating hyperparameters: {e}\")\n"
   ],
   "outputs": [],
   "execution_count": 54
  },
  {
   "metadata": {},
   "cell_type": "markdown",
   "source": [
    "Parameters:\n",
    "- hyperparameters (dict): A dictionary of hyperparameter names and their new values."
   ]
  },
  {
   "metadata": {},
   "cell_type": "markdown",
   "source": "# Train the selected model on the training data."
  },
  {
   "metadata": {
    "ExecuteTime": {
     "end_time": "2024-11-19T13:35:42.287512Z",
     "start_time": "2024-11-19T13:35:42.275546Z"
    }
   },
   "cell_type": "code",
   "source": [
    "def train(self):\n",
    "        if self.current_model is None:\n",
    "            raise ValueError(\"No model selected. Use the 'set_model' method to select a model first.\")\n",
    "        self.current_model.fit(self.X_train, self.y_train)  # Train the model\n",
    "        print(\"Training complete.\")"
   ],
   "outputs": [],
   "execution_count": 55
  },
  {
   "metadata": {},
   "cell_type": "markdown",
   "source": "# Evaluate the selected model on the testing data."
  },
  {
   "metadata": {
    "ExecuteTime": {
     "end_time": "2024-11-19T13:35:42.320078Z",
     "start_time": "2024-11-19T13:35:42.309454Z"
    }
   },
   "cell_type": "code",
   "source": [
    "def evaluate(self):\n",
    "        if self.current_model is None:\n",
    "            raise ValueError(\"No model selected. Use the 'set_model' method to select a model first.\")\n",
    "        y_pred = self.current_model.predict(self.X_test)  # Predict using the test set\n",
    "        accuracy = accuracy_score(self.y_test, y_pred)  # Calculate accuracy\n",
    "        report = classification_report(self.y_test, y_pred)  # Generate classification report\n",
    "        print(\"Model Accuracy:\", accuracy)\n",
    "        print(\"\\nClassification Report:\\n\", report)"
   ],
   "outputs": [],
   "execution_count": 56
  },
  {
   "metadata": {},
   "cell_type": "markdown",
   "source": "- Prints the model's accuracy and a classification report."
  },
  {
   "metadata": {},
   "cell_type": "markdown",
   "source": "# main()"
  },
  {
   "metadata": {
    "ExecuteTime": {
     "end_time": "2024-11-19T13:36:37.122476Z",
     "start_time": "2024-11-19T13:36:36.760928Z"
    }
   },
   "cell_type": "code",
   "source": [
    "filepath = 'E:\\TH koeln_AIT\\Courses\\Oop\\Project\\Classification & Regression\\Oop_Project_ML\\Data\\car.xlsx'\n",
    "data = pd.read_excel(filepath, header=None)  # Load dataset without headers\n",
    "\n",
    "# Create an instance of the CarEvaluationClassifier with the loaded dataset\n",
    "classifier = CarEvaluationClassifier(data)\n",
    "\n",
    "# Prepare the dataset (split into training and testing sets)\n",
    "classifier.prepare_data()\n",
    "\n",
    "# Display available models\n",
    "print(\"Available models: RandomForest, LogisticRegression, SVC\")\n",
    "selected_model = input(\"Enter the model name you want to use: \")\n",
    "\n",
    "# Example Usage based on user input\n",
    "if selected_model == \"RandomForest\":\n",
    "    # Set Random Forest model\n",
    "    classifier.set_model(\"RandomForest\")\n",
    "\n",
    "    # Update hyperparameters for Random Forest\n",
    "    classifier.update_hyperparameters({\n",
    "        \"n_estimators\": 100,  # Number of trees in the forest\n",
    "        \"max_depth\": 10,  # Maximum depth of the tree\n",
    "        \"random_state\": 42  # Seed for reproducibility\n",
    "    })\n",
    "\n",
    "    # Train and evaluate Random Forest\n",
    "    classifier.train()\n",
    "    classifier.evaluate()\n",
    "elif selected_model == \"LogisticRegression\":\n",
    "    # Set Logistic Regression model\n",
    "    classifier.set_model(\"LogisticRegression\")\n",
    "\n",
    "    # Update hyperparameters for Logistic Regression\n",
    "    classifier.update_hyperparameters({\n",
    "        \"C\": 1.0,  # Inverse of regularization strength\n",
    "        \"solver\": \"lbfgs\",  # Optimization algorithm\n",
    "        \"max_iter\": 200  # Maximum number of iterations\n",
    "    })\n",
    "\n",
    "    # Train and evaluate Logistic Regression\n",
    "    classifier.train()\n",
    "    classifier.evaluate()\n",
    "else:\n",
    "    # Set SVC model\n",
    "    classifier.set_model(\"SVC\")\n",
    "\n",
    "    # Update hyperparameters for SVC\n",
    "    classifier.update_hyperparameters({\n",
    "        \"kernel\": \"rbf\",  # Radial basis function kernel\n",
    "        \"C\": 1.0,  # Regularization parameter\n",
    "        \"gamma\": \"scale\"  # Kernel coefficient\n",
    "    })\n",
    "\n",
    "    # Train and evaluate SVC\n",
    "    classifier.train()\n",
    "    classifier.evaluate()"
   ],
   "outputs": [
    {
     "ename": "AttributeError",
     "evalue": "'CarEvaluationClassifier' object has no attribute 'prepare_data'",
     "output_type": "error",
     "traceback": [
      "\u001B[1;31m---------------------------------------------------------------------------\u001B[0m",
      "\u001B[1;31mAttributeError\u001B[0m                            Traceback (most recent call last)",
      "Cell \u001B[1;32mIn[58], line 8\u001B[0m\n\u001B[0;32m      5\u001B[0m classifier \u001B[38;5;241m=\u001B[39m CarEvaluationClassifier(data)\n\u001B[0;32m      7\u001B[0m \u001B[38;5;66;03m# Prepare the dataset (split into training and testing sets)\u001B[39;00m\n\u001B[1;32m----> 8\u001B[0m \u001B[43mclassifier\u001B[49m\u001B[38;5;241;43m.\u001B[39;49m\u001B[43mprepare_data\u001B[49m()\n\u001B[0;32m     10\u001B[0m \u001B[38;5;66;03m# Display available models\u001B[39;00m\n\u001B[0;32m     11\u001B[0m \u001B[38;5;28mprint\u001B[39m(\u001B[38;5;124m\"\u001B[39m\u001B[38;5;124mAvailable models: RandomForest, LogisticRegression, SVC\u001B[39m\u001B[38;5;124m\"\u001B[39m)\n",
      "\u001B[1;31mAttributeError\u001B[0m: 'CarEvaluationClassifier' object has no attribute 'prepare_data'"
     ]
    }
   ],
   "execution_count": 58
  },
  {
   "metadata": {},
   "cell_type": "raw",
   "source": [
    "- Load the car evaluation dataset from an Excel file\n",
    "- Ensure the file is in the working directory"
   ]
  }
 ],
 "metadata": {
  "kernelspec": {
   "display_name": "Python 3",
   "language": "python",
   "name": "python3"
  },
  "language_info": {
   "codemirror_mode": {
    "name": "ipython",
    "version": 3
   },
   "file_extension": ".py",
   "mimetype": "text/x-python",
   "name": "python",
   "nbconvert_exporter": "python",
   "pygments_lexer": "ipython3",
   "version": "3.13.0"
  }
 },
 "nbformat": 4,
 "nbformat_minor": 2
}
