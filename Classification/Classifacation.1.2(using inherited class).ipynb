{
 "cells": [
  {
   "cell_type": "markdown",
   "metadata": {},
   "source": [
    "# Import necessary libraries"
   ]
  },
  {
   "cell_type": "code",
   "execution_count": 20,
   "metadata": {
    "ExecuteTime": {
     "end_time": "2024-11-19T13:35:42.060815Z",
     "start_time": "2024-11-19T13:35:42.051793Z"
    }
   },
   "outputs": [],
   "source": [
    "import pandas as pd\n",
    "from sklearn.model_selection import train_test_split\n",
    "from sklearn.preprocessing import LabelEncoder\n",
    "from sklearn.ensemble import RandomForestClassifier\n",
    "from sklearn.svm import SVC\n",
    "from sklearn.neighbors import KNeighborsClassifier\n",
    "from sklearn.metrics import accuracy_score, classification_report, confusion_matrix, mean_squared_error, ConfusionMatrixDisplay\n",
    "import matplotlib.pyplot as plt"
   ]
  },
  {
   "cell_type": "markdown",
   "metadata": {},
   "source": [
    "# List of inputs and outputs with default values"
   ]
  },
  {
   "cell_type": "code",
   "execution_count": 21,
   "metadata": {},
   "outputs": [],
   "source": [
    "\n",
    "inputs = {\n",
    "    'DataFrame': None,  # The input DataFrame containing the dataset (to be loaded externally)\n",
    "    'test_size': 0.2,  # Fraction of data to be used for testing\n",
    "    'n_estimators': 100,  # Number of trees in RandomForest\n",
    "    'max_depth': 10,  # Maximum depth of RandomForest trees\n",
    "    'C': 1.0,  # Regularization parameter for SVC\n",
    "    'kernel': 'rbf',  # Kernel type for SVC\n",
    "    'gamma': 'scale',  # Kernel coefficient for SVC\n",
    "    'n_neighbors': 5,  # Number of neighbors for KNN\n",
    "    'weights': 'uniform',  # Weight function for KNN\n",
    "    'metric': 'euclidean',  # Distance metric for KNN\n",
    "    'p': 2  # Power parameter for Minkowski distance (KNN)\n",
    "}\n",
    "\n",
    "outputs = {\n",
    "    'accuracy': None,  # Model accuracy\n",
    "    'report': None,  # Classification report\n",
    "    'cm': None,  # Confusion matrix\n",
    "    'mse': None  # Mean squared error\n",
    "}"
   ]
  },
  {
   "cell_type": "markdown",
   "metadata": {},
   "source": [
    "# BaseClass \n",
    "EvaluationClassifier"
   ]
  },
  {
   "cell_type": "code",
   "execution_count": 22,
   "metadata": {},
   "outputs": [],
   "source": [
    "\n",
    "\n",
    "class CarEvaluationClassifier:\n",
    "    def __init__(self, DataFrame, test_size=inputs['test_size']):\n",
    "        self.encoder = LabelEncoder()\n",
    "        \n",
    "\n",
    "        # Encode all columns\n",
    "        for column in DataFrame.columns:\n",
    "            DataFrame[column] = DataFrame[column].astype(str)\n",
    "            DataFrame[column] = self.encoder.fit_transform(DataFrame[column])\n",
    "\n",
    "        self.data = DataFrame.iloc[:, :-1]\n",
    "        self.target = DataFrame.iloc[:, -1]\n",
    "\n",
    "        self.prepare_data(test_size)\n",
    "\n",
    "    def prepare_data(self, test_size=inputs['test_size']):\n",
    "        self.data_train, self.data_test, self.target_train, self.target_test = train_test_split(\n",
    "            self.data, self.target, test_size=test_size, random_state=42\n",
    "        )\n",
    "\n",
    "    def set_model(self, model):\n",
    "        self.current_model = model\n",
    "        print(f\"Model set to: {type(model).__name__}\")\n",
    "\n",
    "    def evaluate(self, target_test=None, target_pred=None):\n",
    "        if target_test is None:\n",
    "            target_test = self.target_test\n",
    "        if target_pred is None:\n",
    "            target_pred = self.target_pred\n",
    "\n",
    "        accuracy = accuracy_score(target_test, target_pred)\n",
    "        report = classification_report(target_test, target_pred)\n",
    "        cm = confusion_matrix(target_test, target_pred)\n",
    "\n",
    "        print(\"Model Accuracy:\", accuracy)\n",
    "        print(\"\\nClassification Report:\\n\", report)\n",
    "        print(\"\\nConfusion Matrix:\")\n",
    "        print(cm)\n",
    "\n",
    "        mse = mean_squared_error(target_test, target_pred)\n",
    "        print(f\"Mean Squared Error: {mse:.4f}\")\n",
    "\n",
    "        return accuracy, report, cm, mse\n",
    "\n",
    "    def display_confusion_matrix(self, cm=None):\n",
    "        if cm is None:\n",
    "            cm = confusion_matrix(self.target_test, self.target_pred)\n",
    "\n",
    "        disp = ConfusionMatrixDisplay(confusion_matrix=cm)\n",
    "        disp.plot(cmap=\"Blues\")\n",
    "        plt.title(\"Confusion Matrix\")\n",
    "        plt.show()\n",
    "\n"
   ]
  },
  {
   "cell_type": "markdown",
   "metadata": {},
   "source": [
    "## Child Class RandomForestModel\n"
   ]
  },
  {
   "cell_type": "code",
   "execution_count": 23,
   "metadata": {},
   "outputs": [],
   "source": [
    "class RandomForestModel(CarEvaluationClassifier):\n",
    "    def __init__(self, DataFrame, n_estimators=inputs['n_estimators'], max_depth=inputs['max_depth'], test_size=inputs['test_size']):\n",
    "        super().__init__(DataFrame, test_size)\n",
    "        self.model = RandomForestClassifier(n_estimators=n_estimators, max_depth=max_depth, random_state=42)\n",
    "\n",
    "    def train(self, data_train=None, target_train=None):\n",
    "        if data_train is None:\n",
    "            data_train = self.data_train\n",
    "        if target_train is None:\n",
    "            target_train = self.target_train\n",
    "\n",
    "        self.model.fit(data_train, target_train)\n",
    "        print(\"Training complete with RandomForest.\")\n",
    "\n",
    "        # Make predictions after training\n",
    "        self.target_pred = self.model.predict(self.data_test)"
   ]
  },
  {
   "cell_type": "markdown",
   "metadata": {},
   "source": [
    "## Child Class SVCModel"
   ]
  },
  {
   "cell_type": "code",
   "execution_count": 24,
   "metadata": {},
   "outputs": [],
   "source": [
    "\n",
    "class SVCModel(CarEvaluationClassifier):\n",
    "    def __init__(self, DataFrame, C=inputs['C'], kernel=inputs['kernel'], gamma=inputs['gamma'], test_size=inputs['test_size']):\n",
    "        super().__init__(DataFrame, test_size)\n",
    "        self.model = SVC(C=C, kernel=kernel, gamma=gamma)\n",
    "\n",
    "    def train(self, data_train=None, target_train=None):\n",
    "        if data_train is None:\n",
    "            data_train = self.data_train\n",
    "        if target_train is None:\n",
    "            target_train = self.target_train\n",
    "\n",
    "        self.model.fit(data_train, target_train)\n",
    "        print(\"Training complete with SVC.\")\n",
    "\n",
    "        # Make predictions after training\n",
    "        self.target_pred = self.model.predict(self.data_test)"
   ]
  },
  {
   "cell_type": "markdown",
   "metadata": {},
   "source": [
    "## Child Class KNNModel"
   ]
  },
  {
   "cell_type": "code",
   "execution_count": 25,
   "metadata": {},
   "outputs": [],
   "source": [
    "\n",
    "class KNNModel(CarEvaluationClassifier):\n",
    "    def __init__(self, DataFrame, n_neighbors=inputs['n_neighbors'], weights=inputs['weights'], metric=inputs['metric'], p=inputs['p'], test_size=inputs['test_size']):\n",
    "        super().__init__(DataFrame, test_size)\n",
    "        self.model = KNeighborsClassifier(n_neighbors=n_neighbors, weights=weights, metric=metric, p=p)\n",
    "\n",
    "    def train(self, data_train=None, target_train=None):\n",
    "        if data_train is None:\n",
    "            data_train = self.data_train\n",
    "        if target_train is None:\n",
    "            target_train = self.target_train\n",
    "\n",
    "        self.model.fit(data_train, target_train)\n",
    "        print(\"Training complete with KNN.\")\n",
    "\n",
    "        # Make predictions after training\n",
    "        self.target_pred = self.model.predict(self.data_test)"
   ]
  },
  {
   "cell_type": "markdown",
   "metadata": {},
   "source": [
    "Instance "
   ]
  },
  {
   "cell_type": "code",
   "execution_count": 26,
   "metadata": {},
   "outputs": [
    {
     "name": "stdout",
     "output_type": "stream",
     "text": [
      "Available models: RandomForest, SVC, kNN\n",
      "Model set to: RandomForestClassifier\n",
      "Training complete with RandomForest.\n",
      "Model Accuracy: 0.9624277456647399\n",
      "\n",
      "Classification Report:\n",
      "               precision    recall  f1-score   support\n",
      "\n",
      "           0       0.99      0.87      0.92        83\n",
      "           1       0.59      0.91      0.71        11\n",
      "           2       0.98      1.00      0.99       235\n",
      "           3       0.94      0.94      0.94        17\n",
      "\n",
      "    accuracy                           0.96       346\n",
      "   macro avg       0.87      0.93      0.89       346\n",
      "weighted avg       0.97      0.96      0.96       346\n",
      "\n",
      "\n",
      "Confusion Matrix:\n",
      "[[ 72   7   4   0]\n",
      " [  0  10   0   1]\n",
      " [  0   0 235   0]\n",
      " [  1   0   0  16]]\n",
      "Mean Squared Error: 0.1040\n"
     ]
    },
    {
     "data": {
      "image/png": "[encoded data removed]",
      "text/plain": [
       "<Figure size 640x480 with 2 Axes>"
      ]
     },
     "metadata": {},
     "output_type": "display_data"
    }
   ],
   "source": [
    "# Load the data\n",
    "filepath = \"car.data\"\n",
    "data = pd.read_csv(filepath, header=None)\n",
    "\n",
    "# User selects a model\n",
    "print(\"Available models: RandomForest, SVC, kNN\")\n",
    "selected_model = input(\"Enter the model name you want to use: \")\n",
    "\n",
    "# Create and use the selected model\n",
    "try:\n",
    "    if selected_model == \"RandomForest\":\n",
    "        model = RandomForestModel(data)\n",
    "    elif selected_model == \"SVC\":\n",
    "        model = SVCModel(data)\n",
    "    elif selected_model == \"kNN\":\n",
    "        model = KNNModel(data)\n",
    "    else:\n",
    "        raise ValueError(\"Invalid model name entered.\")\n",
    "\n",
    "    model.prepare_data()\n",
    "    model.set_model(model.model)\n",
    "    model.train()  # Now called from the child class\n",
    "    accuracy, report, cm, mse = model.evaluate()\n",
    "    model.display_confusion_matrix(cm)\n",
    "    \n",
    "except ValueError as e:\n",
    "    print(e)"
   ]
  }
 ],
 "metadata": {
  "kernelspec": {
   "display_name": "Python 3",
   "language": "python",
   "name": "python3"
  },
  "language_info": {
   "codemirror_mode": {
    "name": "ipython",
    "version": 3
   },
   "file_extension": ".py",
   "mimetype": "text/x-python",
   "name": "python",
   "nbconvert_exporter": "python",
   "pygments_lexer": "ipython3",
   "version": "3.12.7"
  }
 },
 "nbformat": 4,
 "nbformat_minor": 2
}
